{
 "cells": [
  {
   "cell_type": "markdown",
   "id": "2a88127e",
   "metadata": {
    "id": "2a88127e"
   },
   "source": [
    "# Section 3.2.2 LightGBM Training and Inference"
   ]
  },
  {
   "cell_type": "code",
   "execution_count": null,
   "id": "tivM1CeKnj-5",
   "metadata": {
    "colab": {
     "base_uri": "https://localhost:8080/"
    },
    "id": "tivM1CeKnj-5",
    "outputId": "517fbd0d-cee0-4414-ed15-e4b80fa2f8c7"
   },
   "outputs": [],
   "source": []
  },
  {
   "cell_type": "code",
   "execution_count": null,
   "id": "aw5NItiInlY2",
   "metadata": {
    "colab": {
     "base_uri": "https://localhost:8080/",
     "height": 35
    },
    "id": "aw5NItiInlY2",
    "outputId": "5b7d7231-0b13-45b2-9241-b9c44ed3a884"
   },
   "outputs": [],
   "source": [
    "\n"
   ]
  },
  {
   "cell_type": "code",
   "execution_count": 1,
   "id": "b6d8deeb",
   "metadata": {
    "id": "b6d8deeb"
   },
   "outputs": [],
   "source": [
    "import joblib\n",
    "import gc"
   ]
  },
  {
   "cell_type": "code",
   "execution_count": 2,
   "id": "581eb1df",
   "metadata": {
    "id": "581eb1df"
   },
   "outputs": [],
   "source": [
    "import numpy as np\n",
    "import pandas as pd\n",
    "import lightgbm as lgb\n",
    "from sklearn.model_selection import KFold\n",
    "from hyperopt import hp, fmin, tpe\n",
    "from numpy.random import RandomState"
   ]
  },
  {
   "cell_type": "code",
   "execution_count": 3,
   "id": "cbbc2d97-612a-40f1-a6c2-82ced7f17c63",
   "metadata": {
    "colab": {
     "base_uri": "https://localhost:8080/",
     "height": 413
    },
    "id": "cbbc2d97-612a-40f1-a6c2-82ced7f17c63",
    "outputId": "4f5b1c2f-a4a5-4e4a-dd8e-06c7957affc4"
   },
   "outputs": [
    {
     "name": "stdout",
     "output_type": "stream",
     "text": [
      "Defaulting to user installation because normal site-packages is not writeable\n",
      "Requirement already satisfied: lightgbm==3.1.1 in /home/leek/.local/lib/python3.8/site-packages (3.1.1)\n",
      "Requirement already satisfied: numpy in /home/leek/.local/lib/python3.8/site-packages (from lightgbm==3.1.1) (1.20.0)\n",
      "Requirement already satisfied: wheel in /usr/lib/python3/dist-packages (from lightgbm==3.1.1) (0.34.2)\n",
      "Requirement already satisfied: scipy in /home/leek/.local/lib/python3.8/site-packages (from lightgbm==3.1.1) (1.7.3)\n",
      "Requirement already satisfied: scikit-learn!=0.22.0 in /home/leek/.local/lib/python3.8/site-packages (from lightgbm==3.1.1) (1.0.2)\n",
      "Requirement already satisfied: joblib>=0.11 in /home/leek/.local/lib/python3.8/site-packages (from scikit-learn!=0.22.0->lightgbm==3.1.1) (1.1.0)\n",
      "Requirement already satisfied: threadpoolctl>=2.0.0 in /home/leek/.local/lib/python3.8/site-packages (from scikit-learn!=0.22.0->lightgbm==3.1.1) (3.0.0)\n",
      "\u001b[33mWARNING: You are using pip version 22.0.4; however, version 22.2.2 is available.\n",
      "You should consider upgrading via the '/usr/bin/python -m pip install --upgrade pip' command.\u001b[0m\u001b[33m\n",
      "\u001b[0m"
     ]
    },
    {
     "data": {
      "text/plain": [
       "'3.1.1'"
      ]
     },
     "execution_count": 3,
     "metadata": {},
     "output_type": "execute_result"
    }
   ],
   "source": [
    "!pip install lightgbm==3.1.1\n",
    "import lightgbm as lgb\n",
    "lgb.__version__"
   ]
  },
  {
   "cell_type": "code",
   "execution_count": 4,
   "id": "778f8b2d",
   "metadata": {
    "colab": {
     "base_uri": "https://localhost:8080/",
     "height": 485
    },
    "id": "778f8b2d",
    "outputId": "aa505615-2523-4c59-8dc6-b0eb833e6d9d"
   },
   "outputs": [
    {
     "name": "stdout",
     "output_type": "stream",
     "text": [
      "Defaulting to user installation because normal site-packages is not writeable\n",
      "Requirement already satisfied: hyperopt==0.2.7 in /home/leek/.local/lib/python3.8/site-packages (0.2.7)\n",
      "Requirement already satisfied: cloudpickle in /home/leek/.local/lib/python3.8/site-packages (from hyperopt==0.2.7) (2.1.0)\n",
      "Requirement already satisfied: six in /usr/lib/python3/dist-packages (from hyperopt==0.2.7) (1.14.0)\n",
      "Requirement already satisfied: future in /home/leek/.local/lib/python3.8/site-packages (from hyperopt==0.2.7) (0.18.2)\n",
      "Requirement already satisfied: tqdm in /home/leek/.local/lib/python3.8/site-packages (from hyperopt==0.2.7) (4.62.3)\n",
      "Requirement already satisfied: py4j in /home/leek/.local/lib/python3.8/site-packages (from hyperopt==0.2.7) (0.10.9.7)\n",
      "Requirement already satisfied: numpy in /home/leek/.local/lib/python3.8/site-packages (from hyperopt==0.2.7) (1.20.0)\n",
      "Requirement already satisfied: scipy in /home/leek/.local/lib/python3.8/site-packages (from hyperopt==0.2.7) (1.7.3)\n",
      "Requirement already satisfied: networkx>=2.2 in /home/leek/.local/lib/python3.8/site-packages (from hyperopt==0.2.7) (2.6.3)\n",
      "\u001b[33mWARNING: You are using pip version 22.0.4; however, version 22.2.2 is available.\n",
      "You should consider upgrading via the '/usr/bin/python -m pip install --upgrade pip' command.\u001b[0m\u001b[33m\n",
      "\u001b[0m"
     ]
    },
    {
     "data": {
      "text/plain": [
       "'0.2.7'"
      ]
     },
     "execution_count": 4,
     "metadata": {},
     "output_type": "execute_result"
    }
   ],
   "source": [
    "!pip install hyperopt==0.2.7\n",
    "import hyperopt\n",
    "hyperopt.__version__"
   ]
  },
  {
   "cell_type": "code",
   "execution_count": 5,
   "id": "fc3a0351-6f36-40dc-9f73-cd9015864f8b",
   "metadata": {
    "id": "fc3a0351-6f36-40dc-9f73-cd9015864f8b"
   },
   "outputs": [],
   "source": [
    "from hyperopt import fmin, tpe, hp, STATUS_OK, Trials, space_eval"
   ]
  },
  {
   "cell_type": "markdown",
   "id": "822f1326",
   "metadata": {
    "id": "822f1326"
   },
   "source": [
    "## Metric"
   ]
  },
  {
   "cell_type": "code",
   "execution_count": 6,
   "id": "8ce6c242",
   "metadata": {
    "id": "8ce6c242"
   },
   "outputs": [],
   "source": [
    "def amex_metric(y_true, y_pred):\n",
    "    labels = np.transpose(np.array([y_true, y_pred]))\n",
    "    labels = labels[labels[:, 1].argsort()[::-1]]\n",
    "    weights = np.where(labels[:,0]==0, 20, 1)\n",
    "    cut_vals = labels[np.cumsum(weights) <= int(0.04 * np.sum(weights))]\n",
    "    top_four = np.sum(cut_vals[:,0]) / np.sum(labels[:,0])\n",
    "    gini = [0,0]\n",
    "    for i in [1,0]:\n",
    "        labels = np.transpose(np.array([y_true, y_pred]))\n",
    "        labels = labels[labels[:, i].argsort()[::-1]]\n",
    "        weight = np.where(labels[:,0]==0, 20, 1)\n",
    "        weight_random = np.cumsum(weight / np.sum(weight))\n",
    "        total_pos = np.sum(labels[:, 0] *  weight)\n",
    "        cum_pos_found = np.cumsum(labels[:, 0] * weight)\n",
    "        lorentz = cum_pos_found / total_pos\n",
    "        gini[i] = np.sum((lorentz - weight_random) * weight)\n",
    "    return 0.5 * (gini[1]/gini[0] + top_four)"
   ]
  },
  {
   "cell_type": "code",
   "execution_count": 7,
   "id": "17494225",
   "metadata": {
    "id": "17494225"
   },
   "outputs": [],
   "source": [
    "def lgb_amex_metric(y_pred, y_true):\n",
    "    y_true = y_true.get_label()\n",
    "    return 'AMEX_metric', amex_metric(y_true, y_pred), True"
   ]
  },
  {
   "cell_type": "markdown",
   "id": "cb573967",
   "metadata": {
    "id": "cb573967"
   },
   "source": [
    "## 训练模型"
   ]
  },
  {
   "cell_type": "markdown",
   "id": "1be94613",
   "metadata": {
    "id": "1be94613"
   },
   "source": [
    "### 最优参数"
   ]
  },
  {
   "cell_type": "code",
   "execution_count": 8,
   "id": "2030851a",
   "metadata": {
    "id": "2030851a"
   },
   "outputs": [],
   "source": [
    "def params_append(params):\n",
    "    \"\"\"\n",
    "    动态回调参数函数，params视作字典\n",
    "    :param params:lgb参数字典\n",
    "    :return params:修正后的lgb参数字典\n",
    "    \"\"\"\n",
    "    params['feature_pre_filter'] = False\n",
    "    params['objective'] = \"binary\"\n",
    "    params['metric'] = \"None\" # 将用自定义metric（feval中声明）\n",
    "    params[\"is_unbalance\"] = True # 不平衡数据\n",
    "    params[\"boosting\"] = \"dart\" # gbdt, rf, dart\n",
    "    params[\"verbose\"] = -1\n",
    "    # params[\"n_estimators\"] = 200\n",
    "    # params[\"device\"] = \"gpu\"\n",
    "\n",
    "\n",
    "    return params"
   ]
  },
  {
   "cell_type": "markdown",
   "id": "2825b4e5-02e6-46b2-978b-b979b57f9c58",
   "metadata": {
    "id": "2825b4e5-02e6-46b2-978b-b979b57f9c58"
   },
   "source": [
    "此时best_clf即为lgb模型的最优参数组。手动输入best_clf"
   ]
  },
  {
   "cell_type": "code",
   "execution_count": 9,
   "id": "db06186c-6815-4fe9-8920-ceb79ebebe4a",
   "metadata": {
    "id": "db06186c-6815-4fe9-8920-ceb79ebebe4a"
   },
   "outputs": [],
   "source": [
    "best_clf = {'bagging_fraction': 0.9145573834812892, 'bagging_freq': 10, 'feature_fraction': 0.8371096595408576, 'learning_rate': 0.0584746743556553, 'max_depth': 23, \n",
    "'min_child_samples': 25, 'num_leaves': 150, 'feature_pre_filter': False, 'objective': 'binary', 'metric': 'None', 'is_unbalance': True, 'boosting': 'gbdt', 'verbose': -1}\n",
    "best_clf = params_append(best_clf)"
   ]
  },
  {
   "cell_type": "markdown",
   "id": "a2a072d3",
   "metadata": {
    "id": "a2a072d3"
   },
   "source": [
    "### 导入数据"
   ]
  },
  {
   "cell_type": "code",
   "execution_count": 10,
   "id": "d67722e3",
   "metadata": {
    "id": "d67722e3"
   },
   "outputs": [],
   "source": [
    "train_LGBM = pd.read_parquet(\"./input/8-CombinedData/train_lgbm_500.parquet\")"
   ]
  },
  {
   "cell_type": "code",
   "execution_count": 11,
   "id": "326f09dd-7323-4766-9311-2b2356bf7b48",
   "metadata": {
    "id": "326f09dd-7323-4766-9311-2b2356bf7b48"
   },
   "outputs": [],
   "source": [
    "# 数据准备过程\n",
    "label = 'target'\n",
    "features = train_LGBM.columns.tolist()\n",
    "features.remove(\"customer_ID\")\n",
    "features.remove('target')"
   ]
  },
  {
   "cell_type": "code",
   "execution_count": 12,
   "id": "e123222d",
   "metadata": {
    "id": "e123222d"
   },
   "outputs": [],
   "source": [
    "# 数据封装\n",
    "lgb_train = lgb.Dataset(train_LGBM[features], train_LGBM[label])"
   ]
  },
  {
   "cell_type": "code",
   "execution_count": 13,
   "id": "MqAyTGCUnA5O",
   "metadata": {
    "colab": {
     "base_uri": "https://localhost:8080/"
    },
    "id": "MqAyTGCUnA5O",
    "outputId": "72f468f2-56c3-479b-cd87-b4e725f65dca"
   },
   "outputs": [
    {
     "data": {
      "text/plain": [
       "0"
      ]
     },
     "execution_count": 13,
     "metadata": {},
     "output_type": "execute_result"
    }
   ],
   "source": [
    "del train_LGBM\n",
    "gc.collect()"
   ]
  },
  {
   "cell_type": "code",
   "execution_count": 14,
   "id": "3139fe5a-3b82-4ff2-b131-0dcc2d73d6c5",
   "metadata": {
    "id": "3139fe5a-3b82-4ff2-b131-0dcc2d73d6c5"
   },
   "outputs": [
    {
     "name": "stderr",
     "output_type": "stream",
     "text": [
      "/home/leek/.local/lib/python3.8/site-packages/lightgbm/callback.py:186: UserWarning: Early stopping is not available in dart mode\n",
      "  warnings.warn('Early stopping is not available in dart mode')\n"
     ]
    }
   ],
   "source": [
    "# 在全部数据集上训练模型\n",
    "bst = lgb.train(best_clf, \n",
    "                lgb_train,\n",
    "                num_boost_round= 5000,\n",
    "                early_stopping_rounds=500,\n",
    "                verbose_eval=300,\n",
    "                feval = lgb_amex_metric\n",
    "                )"
   ]
  },
  {
   "cell_type": "code",
   "execution_count": 15,
   "id": "cba5d2a2",
   "metadata": {
    "id": "cba5d2a2"
   },
   "outputs": [
    {
     "data": {
      "text/plain": [
       "25"
      ]
     },
     "execution_count": 15,
     "metadata": {},
     "output_type": "execute_result"
    }
   ],
   "source": [
    "del lgb_train\n",
    "gc.collect()"
   ]
  },
  {
   "cell_type": "markdown",
   "id": "9bb2cd4b",
   "metadata": {
    "id": "9bb2cd4b"
   },
   "source": [
    "### 保存模型在本地"
   ]
  },
  {
   "cell_type": "code",
   "execution_count": 16,
   "id": "e6b14b07",
   "metadata": {
    "id": "e6b14b07"
   },
   "outputs": [
    {
     "data": {
      "text/plain": [
       "['LightGBM-training-model.pkl']"
      ]
     },
     "execution_count": 16,
     "metadata": {},
     "output_type": "execute_result"
    }
   ],
   "source": [
    "# Save best model 保存训练模型在本地\n",
    "joblib.dump(bst, f'LightGBM-training-model.pkl')"
   ]
  },
  {
   "cell_type": "markdown",
   "id": "457ebdb1",
   "metadata": {
    "id": "457ebdb1"
   },
   "source": [
    "## Inference"
   ]
  },
  {
   "cell_type": "markdown",
   "id": "9a351566-bf6f-4bfe-bb08-2b1b3f722ac9",
   "metadata": {
    "id": "9a351566-bf6f-4bfe-bb08-2b1b3f722ac9"
   },
   "source": [
    "接下来，对测试集进行预测，并将结果写入本地文件"
   ]
  },
  {
   "cell_type": "markdown",
   "id": "6cf1dbe6",
   "metadata": {
    "id": "6cf1dbe6"
   },
   "source": [
    "### 导入数据"
   ]
  },
  {
   "cell_type": "code",
   "execution_count": 17,
   "id": "4746e2ce",
   "metadata": {
    "id": "4746e2ce"
   },
   "outputs": [],
   "source": [
    "test_LGBM = pd.read_parquet(\"./input/8-CombinedData/test_lgbm_500.parquet\")"
   ]
  },
  {
   "cell_type": "code",
   "execution_count": 18,
   "id": "93884a9c-386e-43d9-b212-688a014202db",
   "metadata": {
    "id": "93884a9c-386e-43d9-b212-688a014202db",
    "jupyter": {
     "outputs_hidden": true
    },
    "tags": []
   },
   "outputs": [],
   "source": [
    "test_LGBM['prediction'] = bst.predict(test_LGBM[features])\n",
    "test_LGBM[['customer_ID', 'prediction']].to_csv(\"result/submission_LGBM.csv\", index=False)"
   ]
  },
  {
   "cell_type": "code",
   "execution_count": null,
   "id": "a9741d7b",
   "metadata": {},
   "outputs": [],
   "source": [
    "test_LGBM[['customer_ID', 'target']].to_csv(\"result/submission_LGBM.csv\", index=False)"
   ]
  }
 ],
 "metadata": {
  "colab": {
   "background_execution": "on",
   "collapsed_sections": [],
   "machine_shape": "hm",
   "name": "3.2.2 LGBM Training.ipynb",
   "provenance": []
  },
  "gpuClass": "standard",
  "kernelspec": {
   "display_name": "Python 3 (ipykernel)",
   "language": "python",
   "name": "python3"
  },
  "language_info": {
   "codemirror_mode": {
    "name": "ipython",
    "version": 3
   },
   "file_extension": ".py",
   "mimetype": "text/x-python",
   "name": "python",
   "nbconvert_exporter": "python",
   "pygments_lexer": "ipython3",
   "version": "3.8.10"
  },
  "toc": {
   "base_numbering": 1,
   "nav_menu": {},
   "number_sections": true,
   "sideBar": true,
   "skip_h1_title": true,
   "title_cell": "Table of Contents",
   "title_sidebar": "Contents",
   "toc_cell": false,
   "toc_position": {
    "height": "calc(100% - 180px)",
    "left": "10px",
    "top": "150px",
    "width": "213px"
   },
   "toc_section_display": true,
   "toc_window_display": true
  },
  "vscode": {
   "interpreter": {
    "hash": "06e6f0634cef3c6b4c7215b86c5234fa5d208db2cad8fd7c34c132f10505d637"
   }
  }
 },
 "nbformat": 4,
 "nbformat_minor": 5
}
